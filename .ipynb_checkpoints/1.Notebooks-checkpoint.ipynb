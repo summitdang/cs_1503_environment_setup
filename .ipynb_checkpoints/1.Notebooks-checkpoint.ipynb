{
 "cells": [
  {
   "cell_type": "markdown",
   "id": "9ff7df55",
   "metadata": {},
   "source": [
    "# Title\n",
    "1. Summit Dang\n",
    "2. 1/19/24"
   ]
  },
  {
   "cell_type": "markdown",
   "id": "72493e69",
   "metadata": {},
   "source": [
    "## Markdown Exercises\n",
    "I'm interested in machine learning because I'm interested in how machines and computers work to analyze and learn from data\n",
    "1. *data analysis*\n",
    "2. **machine pattern recognition**\n",
    "3. **_how ai works_**"
   ]
  },
  {
   "cell_type": "markdown",
   "id": "8060f483",
   "metadata": {},
   "source": [
    "![alt text](https://media1.giphy.com/media/v1.Y2lkPTc5MGI3NjExanVmZXEyZDlwdXBsODQxOHNlOXI4eW9hMjlyNWRwOXlsNnkwcHVzdiZlcD12MV9pbnRlcm5hbF9naWZfYnlfaWQmY3Q9Zw/i63g8S3nix9Ou78ItU/giphy.gif)"
   ]
  },
  {
   "cell_type": "markdown",
   "id": "c25bc1fa",
   "metadata": {},
   "source": [
    "## Jupyter Notebook Exercises"
   ]
  },
  {
   "cell_type": "code",
   "execution_count": 2,
   "id": "8ff5e73e",
   "metadata": {},
   "outputs": [
    {
     "name": "stdout",
     "output_type": "stream",
     "text": [
      "What is your name? Summit Dang\n",
      "Hello Summit Dang !\n"
     ]
    }
   ],
   "source": [
    "name = input(prompt=\"What is your name? \")\n",
    "print(\"Hello\", name, \"!\")"
   ]
  },
  {
   "cell_type": "code",
   "execution_count": null,
   "id": "59181ced",
   "metadata": {},
   "outputs": [],
   "source": []
  }
 ],
 "metadata": {
  "kernelspec": {
   "display_name": "Python 3 (ipykernel)",
   "language": "python",
   "name": "python3"
  },
  "language_info": {
   "codemirror_mode": {
    "name": "ipython",
    "version": 3
   },
   "file_extension": ".py",
   "mimetype": "text/x-python",
   "name": "python",
   "nbconvert_exporter": "python",
   "pygments_lexer": "ipython3",
   "version": "3.11.5"
  }
 },
 "nbformat": 4,
 "nbformat_minor": 5
}
